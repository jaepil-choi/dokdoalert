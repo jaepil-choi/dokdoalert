{
 "cells": [
  {
   "cell_type": "markdown",
   "metadata": {},
   "source": [
    "# 후포-울릉 왕복 성인 1명 예약 monitoring"
   ]
  },
  {
   "cell_type": "code",
   "execution_count": 15,
   "metadata": {},
   "outputs": [],
   "source": [
    "import requests\n",
    "from bs4 import BeautifulSoup as bs"
   ]
  },
  {
   "cell_type": "markdown",
   "metadata": {},
   "source": [
    "## post 시험"
   ]
  },
  {
   "cell_type": "code",
   "execution_count": 18,
   "metadata": {},
   "outputs": [],
   "source": [
    "hupo2ulleung_data = {\n",
    "    \"idx\": 1,\n",
    "    \"fportid\": 43030,\n",
    "    \"tportid\": 43110,\n",
    "    \"departure\": \"2021-10-08\",\n",
    "}"
   ]
  },
  {
   "cell_type": "code",
   "execution_count": 19,
   "metadata": {},
   "outputs": [],
   "source": [
    "hupo2ulleung_r = requests.post(\"https://www.jhferry.com/booking/get_Departure.php\", data=hupo2ulleung_data)"
   ]
  },
  {
   "cell_type": "code",
   "execution_count": 20,
   "metadata": {},
   "outputs": [
    {
     "data": {
      "text/plain": [
       " <tr class=\"plan-item plan1\" onclick=\"get_passenger(this, '1','4303','4311','0','43030','43110','3798645231','2021-10-08 08:00','08:00','1','1','0','0','씨-플라워','1층 일반석','1','1','0','1')\">\n",
       "<td><i class=\"check-tag\"></i></td>\n",
       "<td>후포 - 울릉도</td>\n",
       "<td>08:00</td>\n",
       "<td>씨-플라워</td>\n",
       "<td>1층 일반석</td>\n",
       "<td>0</td>\n",
       "</tr>\n",
       "<tr class=\"plan-item plan1\" onclick=\"get_passenger(this, '1','4303','4311','0','43030','43110','3798645231','2021-10-08 08:00','08:00','1','2','0','0','씨-플라워','2층 우등석','1','1','0','1')\">\n",
       "<td><i class=\"check-tag\"></i></td>\n",
       "<td>후포 - 울릉도</td>\n",
       "<td>08:00</td>\n",
       "<td>씨-플라워</td>\n",
       "<td>2층 우등석</td>\n",
       "<td>0</td>\n",
       "</tr>"
      ]
     },
     "execution_count": 20,
     "metadata": {},
     "output_type": "execute_result"
    }
   ],
   "source": [
    "hupo2ulleung_bs = bs(hupo2ulleung_r.content, 'html.parser')\n",
    "hupo2ulleung_bs"
   ]
  },
  {
   "cell_type": "code",
   "execution_count": 31,
   "metadata": {},
   "outputs": [
    {
     "data": {
      "text/plain": [
       "[{'from_to': '후포 - 울릉도',\n",
       "  'dep_time': '08:00',\n",
       "  'ship': '씨-플라워',\n",
       "  'seat_kind': '1층 일반석',\n",
       "  'seat_left': '0'},\n",
       " {'from_to': '후포 - 울릉도',\n",
       "  'dep_time': '08:00',\n",
       "  'ship': '씨-플라워',\n",
       "  'seat_kind': '2층 우등석',\n",
       "  'seat_left': '0'}]"
      ]
     },
     "execution_count": 31,
     "metadata": {},
     "output_type": "execute_result"
    }
   ],
   "source": [
    "parsed = hupo2ulleung_bs.find_all('tr')\n",
    "\n",
    "parsed = [tr.find_all('td') for tr in parsed]\n",
    "parsed = [{'from_to': l[1].text, 'dep_time': l[2].text, 'ship': l[3].text, 'seat_kind': l[4].text, 'seat_left': l[5].text} for l in parsed]\n",
    "parsed"
   ]
  },
  {
   "cell_type": "markdown",
   "metadata": {},
   "source": [
    "## `telegram-send` 시험"
   ]
  },
  {
   "cell_type": "code",
   "execution_count": 32,
   "metadata": {},
   "outputs": [],
   "source": [
    "import telegram_send"
   ]
  },
  {
   "cell_type": "code",
   "execution_count": 33,
   "metadata": {},
   "outputs": [
    {
     "name": "stdout",
     "output_type": "stream",
     "text": [
      "Config not found\n",
      "Please run: telegram-send --configure\n"
     ]
    }
   ],
   "source": [
    "# telegram_send.configure('./')"
   ]
  },
  {
   "cell_type": "code",
   "execution_count": 42,
   "metadata": {},
   "outputs": [],
   "source": [
    "telegram_send.send(messages=['배편이 확인되었습니다'])"
   ]
  },
  {
   "cell_type": "code",
   "execution_count": null,
   "metadata": {},
   "outputs": [],
   "source": []
  }
 ],
 "metadata": {
  "kernelspec": {
   "display_name": "Python 3",
   "language": "python",
   "name": "python3"
  },
  "language_info": {
   "codemirror_mode": {
    "name": "ipython",
    "version": 3
   },
   "file_extension": ".py",
   "mimetype": "text/x-python",
   "name": "python",
   "nbconvert_exporter": "python",
   "pygments_lexer": "ipython3",
   "version": "3.7.6"
  }
 },
 "nbformat": 4,
 "nbformat_minor": 4
}
