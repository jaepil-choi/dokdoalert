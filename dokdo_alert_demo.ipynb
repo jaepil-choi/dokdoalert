{
 "cells": [
  {
   "cell_type": "markdown",
   "source": [
    "# 후포-울릉 왕복 성인 1명 예약 monitoring"
   ],
   "metadata": {}
  },
  {
   "cell_type": "code",
   "execution_count": 1,
   "source": [
    "import requests\r\n",
    "from bs4 import BeautifulSoup as bs"
   ],
   "outputs": [],
   "metadata": {}
  },
  {
   "cell_type": "markdown",
   "source": [
    "## post 시험"
   ],
   "metadata": {}
  },
  {
   "cell_type": "code",
   "execution_count": 2,
   "source": [
    "hupo2ulleung_data = {\r\n",
    "    \"idx\": 1,\r\n",
    "    \"fportid\": 43030,\r\n",
    "    \"tportid\": 43110,\r\n",
    "    \"departure\": \"2021-10-08\",\r\n",
    "}"
   ],
   "outputs": [],
   "metadata": {}
  },
  {
   "cell_type": "code",
   "execution_count": 14,
   "source": [
    "hupo2ulleung_data = {\r\n",
    "    # \"idx\": 3,\r\n",
    "    \"fportid\": 43030,\r\n",
    "    \"tportid\": 43110,\r\n",
    "    \"departure\": \"2021-10-08\",\r\n",
    "}"
   ],
   "outputs": [],
   "metadata": {}
  },
  {
   "cell_type": "code",
   "execution_count": 15,
   "source": [
    "hupo2ulleung_r = requests.post(\"https://www.jhferry.com/booking/get_Departure.php\", data=hupo2ulleung_data)"
   ],
   "outputs": [],
   "metadata": {}
  },
  {
   "cell_type": "code",
   "execution_count": 16,
   "source": [
    "hupo2ulleung_bs = bs(hupo2ulleung_r.content, 'html.parser')\r\n",
    "hupo2ulleung_bs"
   ],
   "outputs": [
    {
     "output_type": "execute_result",
     "data": {
      "text/plain": [
       " <tr class=\"plan-item plan\" onclick=\"get_passenger(this, '','4303','4311','0','43030','43110','3798645231','2021-10-08 08:00','08:00','1','1','0','0','씨-플라워','1층 일반석','1','1','0','1')\">\n",
       "<td><i class=\"check-tag\"></i></td>\n",
       "<td>후포 - 울릉도</td>\n",
       "<td>08:00</td>\n",
       "<td>씨-플라워</td>\n",
       "<td>1층 일반석</td>\n",
       "<td>0</td>\n",
       "</tr>\n",
       "<tr class=\"plan-item plan\" onclick=\"get_passenger(this, '','4303','4311','0','43030','43110','3798645231','2021-10-08 08:00','08:00','1','2','0','0','씨-플라워','2층 우등석','1','1','0','1')\">\n",
       "<td><i class=\"check-tag\"></i></td>\n",
       "<td>후포 - 울릉도</td>\n",
       "<td>08:00</td>\n",
       "<td>씨-플라워</td>\n",
       "<td>2층 우등석</td>\n",
       "<td>0</td>\n",
       "</tr>"
      ]
     },
     "metadata": {},
     "execution_count": 16
    }
   ],
   "metadata": {}
  },
  {
   "cell_type": "code",
   "execution_count": 31,
   "source": [
    "parsed = hupo2ulleung_bs.find_all('tr')\r\n",
    "\r\n",
    "parsed = [tr.find_all('td') for tr in parsed]\r\n",
    "parsed = [{'from_to': l[1].text, 'dep_time': l[2].text, 'ship': l[3].text, 'seat_kind': l[4].text, 'seat_left': l[5].text} for l in parsed]\r\n",
    "parsed"
   ],
   "outputs": [
    {
     "output_type": "execute_result",
     "data": {
      "text/plain": [
       "[{'from_to': '후포 - 울릉도',\n",
       "  'dep_time': '08:00',\n",
       "  'ship': '씨-플라워',\n",
       "  'seat_kind': '1층 일반석',\n",
       "  'seat_left': '0'},\n",
       " {'from_to': '후포 - 울릉도',\n",
       "  'dep_time': '08:00',\n",
       "  'ship': '씨-플라워',\n",
       "  'seat_kind': '2층 우등석',\n",
       "  'seat_left': '0'}]"
      ]
     },
     "metadata": {},
     "execution_count": 31
    }
   ],
   "metadata": {}
  },
  {
   "cell_type": "markdown",
   "source": [
    "## `telegram-send` 시험"
   ],
   "metadata": {}
  },
  {
   "cell_type": "code",
   "execution_count": 32,
   "source": [
    "import telegram_send"
   ],
   "outputs": [],
   "metadata": {}
  },
  {
   "cell_type": "code",
   "execution_count": 33,
   "source": [
    "# telegram_send.configure('./')"
   ],
   "outputs": [
    {
     "output_type": "stream",
     "name": "stdout",
     "text": [
      "Config not found\n",
      "Please run: telegram-send --configure\n"
     ]
    }
   ],
   "metadata": {}
  },
  {
   "cell_type": "code",
   "execution_count": 42,
   "source": [
    "telegram_send.send(messages=['배편이 확인되었습니다'])"
   ],
   "outputs": [],
   "metadata": {}
  },
  {
   "cell_type": "code",
   "execution_count": null,
   "source": [],
   "outputs": [],
   "metadata": {}
  }
 ],
 "metadata": {
  "kernelspec": {
   "name": "python3",
   "display_name": "Python 3.8.5 64-bit ('webscraping38': conda)"
  },
  "language_info": {
   "codemirror_mode": {
    "name": "ipython",
    "version": 3
   },
   "file_extension": ".py",
   "mimetype": "text/x-python",
   "name": "python",
   "nbconvert_exporter": "python",
   "pygments_lexer": "ipython3",
   "version": "3.8.5"
  },
  "interpreter": {
   "hash": "034549aeb0b37ba311fd73d160481fb2396d068fa9f26ec922db248f10584bc0"
  }
 },
 "nbformat": 4,
 "nbformat_minor": 4
}